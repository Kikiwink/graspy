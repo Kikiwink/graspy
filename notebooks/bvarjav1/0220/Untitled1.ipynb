{
 "cells": [
  {
   "cell_type": "code",
   "execution_count": 2,
   "metadata": {},
   "outputs": [],
   "source": [
    "import graspy\n",
    "import numpy as np\n",
    "import matplotlib.pyplot as plt"
   ]
  },
  {
   "cell_type": "code",
   "execution_count": 3,
   "metadata": {},
   "outputs": [],
   "source": [
    "def gen_data(n, eps):\n",
    "    pi = [0.4, 0.6]\n",
    "    sizes = [int(pi[0]*n), int(pi[1]*n)]\n",
    "    \n",
    "    probsA = np.array([\n",
    "        [0.5, 0.2],\n",
    "        [0.2, 0.5]])\n",
    "    \n",
    "    probsB = np.array([\n",
    "        [0.5 + eps, 0.2],\n",
    "        [0.2, 0.5 + eps]])\n",
    "    A1 = sbm(n=sizes, p=probsA)\n",
    "    A2 = sbm(n=sizes, p=probsB)\n",
    "    return A1, A2\n",
    "\n",
    "def estimated_power(n, eps, iters):\n",
    "    A1, A2 = gen_data(n, eps)\n",
    "    npt = graspy.inference.NonparametricTest()\n",
    "    npt.fit(A1, A2)\n",
    "    sorted_ = np.sort(npt.null_distribution_)\n",
    "    rej_ind = int(np.ceil(((1 - 0.05)*200))) #200 is n_bootstraps, 0.05 is alpha\n",
    "    critical_value = sorted_[rej_ind]\n",
    "    \n",
    "    rejections = 0\n",
    "    for i in range(iters):\n",
    "        A, B = gen_data(n, eps)\n",
    "        npt_2 = graspy.inference.NonparametricTest(n_bootstraps=1)\n",
    "        npt_2.fit(A,B)\n",
    "        U = npt_2.sample_T_statistic_\n",
    "        if U > critical_value:\n",
    "            rejections += 1\n",
    "    return rejections/iters\n",
    "\n",
    "def monte_carlo(ns, eps, iters = 1000):\n",
    "    powers = np.zeros(shape = (len(ns),len(eps)))\n",
    "    for i in tqdm(range(len(ns))):\n",
    "        for j in tqdm(range(len(eps))):\n",
    "            powers[i,j] = np.array(estimated_power(ns[i], eps[j], iters))\n",
    "    return powers"
   ]
  },
  {
   "cell_type": "code",
   "execution_count": null,
   "metadata": {},
   "outputs": [],
   "source": []
  }
 ],
 "metadata": {
  "kernelspec": {
   "display_name": "graspy",
   "language": "python",
   "name": "graspy"
  },
  "language_info": {
   "codemirror_mode": {
    "name": "ipython",
    "version": 3
   },
   "file_extension": ".py",
   "mimetype": "text/x-python",
   "name": "python",
   "nbconvert_exporter": "python",
   "pygments_lexer": "ipython3",
   "version": "3.6.7"
  }
 },
 "nbformat": 4,
 "nbformat_minor": 2
}
