{
 "cells": [
  {
   "cell_type": "code",
   "execution_count": 2,
   "metadata": {},
   "outputs": [],
   "source": [
    "import numpy as np\n",
    "import networkx as nx\n",
    "from graspy.embed import AdjacencySpectralEmbed\n",
    "\n",
    "from tqdm import tqdm_notebook as tqdm"
   ]
  },
  {
   "cell_type": "code",
   "execution_count": 3,
   "metadata": {},
   "outputs": [],
   "source": [
    "def gaussian_covariance(X, Y, bandwidth = 0.5):\n",
    "    diffs = np.expand_dims(X, 1) - np.expand_dims(Y, 0)\n",
    "    return np.exp(-0.5 * np.sum(diffs**2, axis=2) / bandwidth**2)"
   ]
  },
  {
   "cell_type": "code",
   "execution_count": 4,
   "metadata": {},
   "outputs": [],
   "source": [
    "def statistic(X, Y):\n",
    "    N, _ = X.shape\n",
    "    M, _ = Y.shape\n",
    "    x_stat = np.sum(gaussian_covariance(X, X, 0.5) - np.eye(N))/(N*(N-1))\n",
    "    y_stat = np.sum(gaussian_covariance(Y, Y, 0.5) - np.eye(M))/(M*(M-1))\n",
    "    xy_stat = np.sum(gaussian_covariance(X, Y, 0.5))/(N*M)\n",
    "    return x_stat - xy_stat + x_stat\n",
    "\n",
    "def statistic2(m, N):\n",
    "    x_stat = m[:N,:N]\n",
    "    y_stat = m[N:,N:]\n",
    "    xy_stat = m[:N,N:]\n",
    "    return np.sum(x_stat) - 2*np.sum(xy_stat) + np.sum(x_stat)\n",
    "\n",
    "def gen_stat(X, Y):\n",
    "    N, _ = X.shape\n",
    "    M, _ = Y.shape\n",
    "    x_stat = gaussian_covariance(X, X, 0.5) - np.eye(N)/(N*(N-1))\n",
    "    y_stat = gaussian_covariance(Y, Y, 0.5) - np.eye(M)/(M*(M-1))\n",
    "    xy_stat = gaussian_covariance(X, Y, 0.5)/(N*M)\n",
    "    return x_stat, y_stat, xy_stat"
   ]
  },
  {
   "cell_type": "code",
   "execution_count": 5,
   "metadata": {},
   "outputs": [],
   "source": [
    "def ASE(A): #too SLOW! Takes like 100 hrs... can't validate using this.\n",
    "    ase = AdjacencySpectralEmbed(algorithm='randomized', n_components=2)\n",
    "    X_hat = ase.fit_transform(A)\n",
    "    return X_hat"
   ]
  },
  {
   "cell_type": "code",
   "execution_count": 6,
   "metadata": {},
   "outputs": [],
   "source": [
    "def bootstrap(X, Y, M = 200, alpha = 0.05):\n",
    "    N, _ = X.shape\n",
    "    M2, _ = Y.shape\n",
    "    Z = np.concatenate((X,Y))    \n",
    "    statistics = np.zeros(M)\n",
    "    for i in range(M):\n",
    "        bs_Z = Z[np.random.choice(np.arange(0,N+M2), size = int(N+M2), replace = False)]\n",
    "        bs_X2 = bs_Z[:N,:]\n",
    "        bs_Y2 = bs_Z[N:,:]\n",
    "        statistics[i] = statistic(bs_X2, bs_Y2)\n",
    "        \n",
    "    sorted_ = np.sort(statistics)\n",
    "    rej_ind = int(np.ceil(((1 - alpha)*M)))\n",
    "    return sorted_[rej_ind]"
   ]
  },
  {
   "cell_type": "code",
   "execution_count": 7,
   "metadata": {},
   "outputs": [],
   "source": [
    "def median_heuristic(X1, X2):\n",
    "    X1_medians = np.median(X1, axis=0)\n",
    "    X2_medians = np.median(X2, axis=0)\n",
    "    val = np.multiply(X1_medians, X2_medians)\n",
    "    t = (val>0)*2-1\n",
    "    X1 = np.multiply(t.reshape(-1,1).T,X1)\n",
    "    return X1, X2"
   ]
  },
  {
   "cell_type": "code",
   "execution_count": 8,
   "metadata": {},
   "outputs": [],
   "source": [
    "def gen_data(n, eps):\n",
    "    pi = [0.4, 0.6]\n",
    "    sizes = [int(pi[0]*n), int(pi[1]*n)]\n",
    "\n",
    "    probsA = np.array([\n",
    "        [0.5, 0.2],\n",
    "        [0.2, 0.5]])\n",
    "    \n",
    "    probsB = np.array([\n",
    "        [0.5 + eps, 0.2],\n",
    "        [0.2, 0.5 + eps]])\n",
    "    \n",
    "    G1 = nx.stochastic_block_model(sizes, probsA)\n",
    "    A1 = nx.to_numpy_array(G1)\n",
    "\n",
    "    G2 = nx.stochastic_block_model(sizes, probsA)\n",
    "    A2 = nx.to_numpy_array(G2)\n",
    "    return sizes, probsA, probsB, A1, A2"
   ]
  },
  {
   "cell_type": "code",
   "execution_count": 9,
   "metadata": {},
   "outputs": [],
   "source": [
    "def estimated_power(n, eps, M, alpha, iters):\n",
    "    sizes, probsA, probsB, A1, A2 = gen_data(n, eps)\n",
    "    \n",
    "    X1_hat = ASE(A1)\n",
    "    X2_hat = ASE(A2)\n",
    "    X1_hat, X2_hat = median_heuristic(X1_hat, X2_hat)\n",
    "    critical_value = bootstrap(X1_hat, X2_hat, M, alpha)\n",
    "    \n",
    "    rejections = 0\n",
    "    for i in range(iters):\n",
    "        G3 = nx.stochastic_block_model(sizes, probsA)\n",
    "        A = nx.to_numpy_array(G3)\n",
    "        G4 = nx.stochastic_block_model(sizes, probsB)\n",
    "        B = nx.to_numpy_array(G4)\n",
    "        X_hat = ASE(A)\n",
    "        Y_hat = ASE(B)\n",
    "        X_hat, Y_hat = median_heuristic(X_hat, Y_hat)\n",
    "        U = statistic(X_hat, Y_hat)\n",
    "        if U > critical_value:\n",
    "            rejections += 1\n",
    "    return rejections/iters"
   ]
  },
  {
   "cell_type": "code",
   "execution_count": 10,
   "metadata": {},
   "outputs": [],
   "source": [
    "def monte_carlo(ns, eps, M = 200, alpha = 0.05, iters = 1000):\n",
    "    powers = np.zeros(shape = (len(ns),len(eps)))\n",
    "    for i in tqdm(range(len(ns))):\n",
    "        for j in range(len(eps)):\n",
    "            powers[i,j] = np.array(estimated_power(ns[i], eps[j], M, alpha, iters))\n",
    "    return powers"
   ]
  },
  {
   "cell_type": "code",
   "execution_count": 13,
   "metadata": {},
   "outputs": [
    {
     "data": {
      "application/vnd.jupyter.widget-view+json": {
       "model_id": "5b4dc1d6f01d4f37a8a763ced22730c9",
       "version_major": 2,
       "version_minor": 0
      },
      "text/plain": [
       "HBox(children=(IntProgress(value=0, max=2), HTML(value='')))"
      ]
     },
     "metadata": {},
     "output_type": "display_data"
    },
    {
     "name": "stdout",
     "output_type": "stream",
     "text": [
      "\n"
     ]
    }
   ],
   "source": [
    "# monte_ns = [100\n",
    "monte_ns = [100, 200]#, 500, 1000]\n",
    "monte_eps = [0.02, 0.05, 0.1]\n",
    "power_table = monte_carlo(ns = monte_ns, eps = monte_eps)"
   ]
  },
  {
   "cell_type": "code",
   "execution_count": 14,
   "metadata": {},
   "outputs": [
    {
     "name": "stdout",
     "output_type": "stream",
     "text": [
      "Paper results\n",
      "[[0.06 0.09 0.27]\n",
      " [0.09 0.17 0.83]\n",
      " [0.1  0.43 1.  ]\n",
      " [0.14 1.   1.  ]]\n",
      "Sim results\n",
      "[[0.    0.008 0.005]\n",
      " [0.    0.003 0.665]]\n"
     ]
    }
   ],
   "source": [
    "print(\"Paper results\")\n",
    "print(np.array([[.06,.09,.27],[.09,.17,.83],[.1,.43,1],[.14,1,1]]))\n",
    "print(\"Sim results\")\n",
    "print(power_table)"
   ]
  },
  {
   "cell_type": "code",
   "execution_count": null,
   "metadata": {},
   "outputs": [],
   "source": []
  },
  {
   "cell_type": "code",
   "execution_count": null,
   "metadata": {},
   "outputs": [],
   "source": []
  },
  {
   "cell_type": "code",
   "execution_count": null,
   "metadata": {},
   "outputs": [],
   "source": []
  },
  {
   "cell_type": "code",
   "execution_count": null,
   "metadata": {},
   "outputs": [],
   "source": []
  },
  {
   "cell_type": "code",
   "execution_count": null,
   "metadata": {},
   "outputs": [],
   "source": []
  }
 ],
 "metadata": {
  "kernelspec": {
   "display_name": "graspy",
   "language": "python",
   "name": "graspy"
  },
  "language_info": {
   "codemirror_mode": {
    "name": "ipython",
    "version": 3
   },
   "file_extension": ".py",
   "mimetype": "text/x-python",
   "name": "python",
   "nbconvert_exporter": "python",
   "pygments_lexer": "ipython3",
   "version": "3.6.7"
  }
 },
 "nbformat": 4,
 "nbformat_minor": 2
}
