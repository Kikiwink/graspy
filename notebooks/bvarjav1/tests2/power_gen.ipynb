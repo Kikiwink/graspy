{
 "cells": [
  {
   "cell_type": "code",
   "execution_count": 3,
   "metadata": {},
   "outputs": [],
   "source": [
    "%matplotlib inline\n",
    "import numpy as np\n",
    "import matplotlib.pyplot as plt; plt.style.use('classic')\n",
    "import matplotlib.ticker as ticker\n",
    "import seaborn as sns; sns.set()\n",
    "import pandas as pd\n",
    "from mgcpy.independence_tests.mgc.mgc import MGC\n",
    "from mgcpy.benchmarks import simulations as sims\n",
    "from mgcpy.independence_tests.dcorr import DCorr\n",
    "from scipy.stats import bernoulli\n",
    "import math"
   ]
  },
  {
   "cell_type": "code",
   "execution_count": 4,
   "metadata": {},
   "outputs": [],
   "source": [
    "import numpy as np\n",
    "np.random.seed(88889999)\n",
    "import graspy\n",
    "from graspy.inference import NonparametricTest\n",
    "from graspy.embed import AdjacencySpectralEmbed, select_dimension\n",
    "\n",
    "from graspy.simulations import sbm, rdpg\n",
    "from graspy.utils import symmetrize, get_lcc\n",
    "from graspy.plot import heatmap, pairplot\n",
    "from scipy.stats import bernoulli\n",
    "from mgcpy.hypothesis_tests.transforms import k_sample_transform\n",
    "from tqdm import tqdm_notebook as tqdm"
   ]
  },
  {
   "cell_type": "code",
   "execution_count": 14,
   "metadata": {},
   "outputs": [],
   "source": [
    "class power_test():\n",
    "    def __init__(self):\n",
    "        self.mc = 100\n",
    "        self.alpha = 0.05\n",
    "\n",
    "    def _gen(self, null, n):\n",
    "        X1 = np.random.uniform(0.2,0.7,n).reshape(-1,1)\n",
    "        X2 = np.random.uniform(0.4,0.9,n).reshape(-1,1)\n",
    "        A1 = rdpg(X1,\n",
    "            loops=False,\n",
    "            rescale=False,\n",
    "            directed=False)\n",
    "        if null:\n",
    "            A2 = rdpg(X1,\n",
    "                loops=False,\n",
    "                rescale=False,\n",
    "                directed=False)\n",
    "        else:\n",
    "            A2 = rdpg(X2,\n",
    "                loops=False,\n",
    "                rescale=False,\n",
    "                directed=False)\n",
    "        # A1 = graspy.utils.get_lcc(A1)\n",
    "        # A2 = graspy.utils.get_lcc(A2)\n",
    "        self.G = A1\n",
    "        self.F = A2\n",
    "    \n",
    "    def _embed(self):\n",
    "        num_dims1 = select_dimension(self.G)[0][-1]\n",
    "        num_dims2 = select_dimension(self.F)[0][-1]\n",
    "        n_components = max(num_dims1, num_dims2)\n",
    "\n",
    "        ase = AdjacencySpectralEmbed(n_components=n_components)\n",
    "        self.X = ase.fit_transform(self.G)\n",
    "        self.Y = ase.fit_transform(self.F)\n",
    "\n",
    "    def power(self, alg, null, n, mc=100, alpha=0.05):\n",
    "        self._gen(null=null, n=n)\n",
    "        \n",
    "        if alg == 'npt':\n",
    "            self.alg = NonparametricTest(n_bootstraps=1)\n",
    "        if alg == 'mgc':\n",
    "            self.alg = MGC()\n",
    "        \n",
    "        test_stat_null_array = np.zeros(self.mc)\n",
    "        test_stat_alt_array = np.zeros(self.mc)\n",
    "        for i in range(self.mc):\n",
    "            if alg == 'mgc':\n",
    "                self._embed()\n",
    "                X, Y = k_sample_transform(self.X, self.Y)\n",
    "                X2 = np.random.permutation(X)\n",
    "                test_stat_alt, _ = self.alg.test_statistic(\n",
    "                    matrix_X=self.X, matrix_Y=self.Y, is_fast=True)\n",
    "                test_stat_null, _ = self.alg.test_statistic(\n",
    "                    matrix_X=X2, matrix_Y=Y, is_fast=True) \n",
    "            elif alg == 'npt':\n",
    "                self.alg.fit(self.G, self.F)\n",
    "                test_stat_alt = self.alg.sample_T_statistic_\n",
    "                test_stat_null = self.alg.null_distribution_[0]\n",
    "            \n",
    "            test_stat_alt_array[i] = test_stat_alt\n",
    "            test_stat_null_array[i] = test_stat_null\n",
    "\n",
    "        critical_value = np.sort(test_stat_null_array)[math.ceil((1-alpha)*mc)]\n",
    "        power = np.where(test_stat_alt_array > critical_value)[0].shape[0] / mc\n",
    "        return power"
   ]
  },
  {
   "cell_type": "code",
   "execution_count": 16,
   "metadata": {},
   "outputs": [],
   "source": [
    "import warnings\n",
    "warnings.filterwarnings(\"ignore\")"
   ]
  },
  {
   "cell_type": "code",
   "execution_count": 18,
   "metadata": {},
   "outputs": [
    {
     "data": {
      "text/plain": [
       "0.0"
      ]
     },
     "execution_count": 18,
     "metadata": {},
     "output_type": "execute_result"
    }
   ],
   "source": [
    "pt = power_test()\n",
    "pt.power('mgc', False, 50)"
   ]
  },
  {
   "cell_type": "code",
   "execution_count": null,
   "metadata": {},
   "outputs": [],
   "source": []
  }
 ],
 "metadata": {
  "kernelspec": {
   "display_name": "mgc",
   "language": "python",
   "name": "mgc"
  },
  "language_info": {
   "codemirror_mode": {
    "name": "ipython",
    "version": 3
   },
   "file_extension": ".py",
   "mimetype": "text/x-python",
   "name": "python",
   "nbconvert_exporter": "python",
   "pygments_lexer": "ipython3",
   "version": "3.7.1"
  }
 },
 "nbformat": 4,
 "nbformat_minor": 2
}
